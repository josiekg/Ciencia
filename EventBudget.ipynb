{
 "cells": [
  {
   "cell_type": "code",
   "execution_count": null,
   "id": "2f58c9e8-12fb-4d89-bd79-db8f1e10d0c7",
   "metadata": {},
   "outputs": [],
   "source": [
    "items = [] \n",
    "prices = []\n",
    "total = 0\n",
    "\n",
    "while True: \n",
    "    item = input(\"Enter an item to buy (q to quit): \")\n",
    "    if item.lower() == \"q\":\n",
    "        break\n",
    "\n",
    "    else: \n",
    "        price = float(input(\"Enter the price of a {item}: $\"))\n",
    "        items.append(item)\n",
    "        prices.append(price)\n",
    "\n",
    "print(\"----- YOUR CART -----\")\n",
    "\n",
    "for item in items: \n",
    "    print(item)\n",
    "\n",
    "for price in prices: \n",
    "    total += price \n",
    "\n",
    "print() \n",
    "print(f\"Your total is: ${total}\")\n"
   ]
  },
  {
   "cell_type": "code",
   "execution_count": null,
   "id": "810257fb-faea-4bf9-8d58-c29132112a14",
   "metadata": {},
   "outputs": [],
   "source": []
  },
  {
   "cell_type": "code",
   "execution_count": null,
   "id": "907c9939-95f8-46b5-bba5-b6616ef4cc56",
   "metadata": {},
   "outputs": [],
   "source": []
  }
 ],
 "metadata": {
  "kernelspec": {
   "display_name": "Python 3 (ipykernel)",
   "language": "python",
   "name": "python3"
  },
  "language_info": {
   "codemirror_mode": {
    "name": "ipython",
    "version": 3
   },
   "file_extension": ".py",
   "mimetype": "text/x-python",
   "name": "python",
   "nbconvert_exporter": "python",
   "pygments_lexer": "ipython3",
   "version": "3.12.9"
  }
 },
 "nbformat": 4,
 "nbformat_minor": 5
}
